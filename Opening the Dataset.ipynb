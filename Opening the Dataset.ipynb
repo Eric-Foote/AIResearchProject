{
 "cells": [
  {
   "cell_type": "code",
   "execution_count": 24,
   "metadata": {},
   "outputs": [
    {
     "name": "stdout",
     "output_type": "stream",
     "text": [
      "1\n"
     ]
    }
   ],
   "source": [
    "from translate.storage.tmx import tmxfile\n",
    "import tensorflow as tf\n",
    "\n",
    "\n",
    "with open(\"de-en_04-11-2015_Website_final.tmx\", 'rb') as fin:\n",
    "    tmx_file = tmxfile(fin,\"de-DE\",\"en-GB\") ## Reads our corpus into python\n",
    "\n",
    "training_set = [] ## Creates an empty array to be used in the model\n",
    "validation_set = [] ## Creates an empty array to be used in the model\n",
    "\n",
    "for node in tmx_file.unit_iter():\n",
    "    training_set.append(node.source) ## Appends a sentence to the list\n",
    "    validation_set.append(node.target) \n",
    "\n",
    "for i in range(len(training_set)):\n",
    "    training_set[i] = training_set[i].lower() ## Makes everything lower case\n",
    "    training_set[i] = training_set[i].split() ## Splits the sentence up into words\n",
    "    validation_set[i] = validation_set[i].lower() \n",
    "    validation_set[i] = validation_set[i].split()\n",
    "\n",
    "def wordToInteger(word):\n",
    "    word2Integer = []\n",
    "    word2Count = []\n",
    "    i = 1\n",
    "    if word not in word2Integer:\n",
    "        word2Integer.append(word)\n",
    "        word2Count.append(1)\n",
    "        i+=1\n",
    "    else:\n",
    "        word2Count[word] += 1\n",
    "        i+=1\n",
    "    return word2Count\n",
    "\n",
    "for i in range(len(training_set)):\n",
    "    word2Count = wordToInteger(training_set[i])\n",
    "    \n",
    "    \n",
    "for i in range(len(word2Count)):\n",
    "    print(word2Count[i])"
   ]
  },
  {
   "cell_type": "code",
   "execution_count": 3,
   "metadata": {},
   "outputs": [
    {
     "ename": "NameError",
     "evalue": "name 'training_set' is not defined",
     "output_type": "error",
     "traceback": [
      "\u001b[0;31m-------------------------------------------------------------------------\u001b[0m",
      "\u001b[0;31mNameError\u001b[0m                               Traceback (most recent call last)",
      "\u001b[0;32m<ipython-input-3-c6635f9e268f>\u001b[0m in \u001b[0;36m<module>\u001b[0;34m\u001b[0m\n\u001b[0;32m----> 1\u001b[0;31m \u001b[0;32mfor\u001b[0m \u001b[0mnode\u001b[0m \u001b[0;32min\u001b[0m \u001b[0mtraining_set\u001b[0m\u001b[0;34m:\u001b[0m\u001b[0;34m\u001b[0m\u001b[0;34m\u001b[0m\u001b[0m\n\u001b[0m\u001b[1;32m      2\u001b[0m     \u001b[0mtraining_set\u001b[0m\u001b[0;34m[\u001b[0m\u001b[0mnode\u001b[0m\u001b[0;34m]\u001b[0m \u001b[0;34m=\u001b[0m \u001b[0mtraining_set\u001b[0m\u001b[0;34m[\u001b[0m\u001b[0mnode\u001b[0m\u001b[0;34m]\u001b[0m\u001b[0;34m.\u001b[0m\u001b[0mlower\u001b[0m\u001b[0;34m\u001b[0m\u001b[0;34m\u001b[0m\u001b[0m\n\u001b[1;32m      3\u001b[0m     \u001b[0mvalidation_set\u001b[0m\u001b[0;34m[\u001b[0m\u001b[0mnode\u001b[0m\u001b[0;34m]\u001b[0m \u001b[0;34m=\u001b[0m \u001b[0mvalidation_set\u001b[0m\u001b[0;34m[\u001b[0m\u001b[0mnode\u001b[0m\u001b[0;34m]\u001b[0m\u001b[0;34m.\u001b[0m\u001b[0mlower\u001b[0m\u001b[0;34m\u001b[0m\u001b[0;34m\u001b[0m\u001b[0m\n\u001b[1;32m      4\u001b[0m \u001b[0;34m\u001b[0m\u001b[0m\n\u001b[1;32m      5\u001b[0m \u001b[0;34m\u001b[0m\u001b[0m\n",
      "\u001b[0;31mNameError\u001b[0m: name 'training_set' is not defined"
     ]
    }
   ],
   "source": [
    "\n",
    "    \n",
    "\n",
    "\n"
   ]
  },
  {
   "cell_type": "code",
   "execution_count": null,
   "metadata": {},
   "outputs": [],
   "source": []
  }
 ],
 "metadata": {
  "kernelspec": {
   "display_name": "Python 3",
   "language": "python",
   "name": "python3"
  },
  "language_info": {
   "codemirror_mode": {
    "name": "ipython",
    "version": 3
   },
   "file_extension": ".py",
   "mimetype": "text/x-python",
   "name": "python",
   "nbconvert_exporter": "python",
   "pygments_lexer": "ipython3",
   "version": "3.8.5"
  }
 },
 "nbformat": 4,
 "nbformat_minor": 4
}
